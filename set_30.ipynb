{
 "cells": [
  {
   "cell_type": "code",
   "execution_count": 58,
   "metadata": {},
   "outputs": [
    {
     "name": "stdout",
     "output_type": "stream",
     "text": [
      "Enter the elements value: \n",
      "1\n",
      "2\n",
      "3\n",
      "4\n",
      "5\n",
      "6\n",
      "7\n",
      "8\n",
      "9\n",
      "10\n",
      "[1, 4, 9, 16, 25, 36, 49, 64, 81, 100]\n"
     ]
    }
   ],
   "source": [
    "# 1: program for increasing the power of elements by two present in the list of 10\n",
    "def increasePower():\n",
    "    list = []\n",
    "    print(\"Enter the elements value: \\n\")\n",
    "    for i in range(10):\n",
    "        x = int(input())\n",
    "        x = x*x\n",
    "        list.append(x)\n",
    "    \n",
    "    print(list)\n",
    "    \n",
    "increasePower()"
   ]
  },
  {
   "cell_type": "code",
   "execution_count": 59,
   "metadata": {},
   "outputs": [
    {
     "name": "stdout",
     "output_type": "stream",
     "text": [
      "Enter the size of the LIST:  4\n",
      "Enter the number of elements here: \n",
      "\n",
      "a\n",
      "cb\n",
      "sdf\n",
      "fg\n",
      "\n",
      "\n",
      "Elements in the list are :   ['a', 'cb', 'sdf', 'fg']\n"
     ]
    }
   ],
   "source": [
    "# 2: Program to append the element in the list\n",
    "def enterElement():\n",
    "    list = []\n",
    "    x = int(input(\"Enter the size of the LIST:  \"))\n",
    "    \n",
    "    print(\"Enter the number of elements here: \\n\")\n",
    "    for i in range(x):\n",
    "        a = input()\n",
    "        list.append(a)\n",
    "        \n",
    "    print(\"\\n\\nElements in the list are :  \",list)\n",
    "    \n",
    "# different functions in list\n",
    "    list.count(10)\n",
    "    list.index(10)\n",
    "    list.remove(2)\n",
    "    list.reverse()\n",
    "    min(list)\n",
    "    max(list)\n",
    "    list.sort()\n",
    "    \n",
    "#  calling the function enterElement()\n",
    "enterElement()"
   ]
  },
  {
   "cell_type": "code",
   "execution_count": 60,
   "metadata": {},
   "outputs": [
    {
     "name": "stdout",
     "output_type": "stream",
     "text": [
      "*\n",
      "*\n",
      "*\n",
      "*\n",
      "*\n",
      "*\n",
      "*\n",
      "*\n",
      "*\n",
      "*\n",
      "* * * * * * * * * * "
     ]
    }
   ],
   "source": [
    "# 3: Program to print the pattern L\n",
    "def patternL():\n",
    "    for i in range(10):\n",
    "        print(\"*\")\n",
    "    \n",
    "    for i in range(10):\n",
    "        print(\"*\",end=\" \")\n",
    "\n",
    "patternL()"
   ]
  },
  {
   "cell_type": "code",
   "execution_count": null,
   "metadata": {},
   "outputs": [],
   "source": []
  }
 ],
 "metadata": {
  "kernelspec": {
   "display_name": "Python 3",
   "language": "python",
   "name": "python3"
  },
  "language_info": {
   "codemirror_mode": {
    "name": "ipython",
    "version": 3
   },
   "file_extension": ".py",
   "mimetype": "text/x-python",
   "name": "python",
   "nbconvert_exporter": "python",
   "pygments_lexer": "ipython3",
   "version": "3.7.4"
  }
 },
 "nbformat": 4,
 "nbformat_minor": 2
}
