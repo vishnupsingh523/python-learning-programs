{
 "cells": [
  {
   "cell_type": "code",
   "execution_count": 35,
   "metadata": {},
   "outputs": [
    {
     "name": "stdout",
     "output_type": "stream",
     "text": [
      "Enter a scentence: \n",
      "hello sri HOWR EE YOU\n",
      "\n",
      "\n",
      "Lowercase Vowels :  3\n",
      "Uppercase Vowels :  5\n",
      "\n",
      "Lowercase Consonants :  5\n",
      "Uppercase Consonants :  4\n",
      "\n",
      "Total number of vowels:  8\n",
      "\n",
      "Total number of consonants:  9\n"
     ]
    }
   ],
   "source": [
    "# 1: count vowel(lower and upper) and consonat(lower and upper)\n",
    "def vowel(scentence):\n",
    "    Lvowel = \"aeiou\"\n",
    "    Uvowel = \"AEIOU\"\n",
    "    Lcount = 0\n",
    "    Ucount = 0\n",
    "    for i in range(len(scentence)):\n",
    "        for j in range(len(Lvowel)):\n",
    "            if scentence[i] == Lvowel[j]:\n",
    "                Lcount = Lcount + 1\n",
    "            elif scentence[i] == Uvowel[j]:\n",
    "                Ucount = Ucount + 1\n",
    "    \n",
    "    print(\"\\n\\nLowercase Vowels : \",Lcount)\n",
    "    print(\"Uppercase Vowels : \",Ucount)\n",
    "    \n",
    "    return Lcount+Ucount\n",
    "\n",
    "def consonants(scentence):\n",
    "    Lconso = \"bcdfghjklmnpqrstvwxyz\"\n",
    "    Uconso = \"BCDFGHJKLMNPQRSTVWXYZ\"\n",
    "    Lcount = 0\n",
    "    Ucount = 0\n",
    "    for i in range(len(scentence)):\n",
    "        for j in range(len(Lconso)):\n",
    "            if scentence[i] == Lconso[j]:\n",
    "                Lcount = Lcount + 1\n",
    "            elif scentence[i] == Uconso[j]:\n",
    "                Ucount = Ucount + 1\n",
    "    \n",
    "    print(\"\\nLowercase Consonants : \",Lcount)\n",
    "    print(\"Uppercase Consonants : \",Ucount)\n",
    "    \n",
    "    return Lcount+Ucount\n",
    "def main():\n",
    "    scentence = input(\"Enter a scentence: \\n\")\n",
    "    Vcount = vowel(scentence)\n",
    "    Ccount = consonants(scentence)\n",
    "    print(\"\\nTotal number of vowels: \",Vcount)\n",
    "    print(\"\\nTotal number of consonants: \",Ccount)\n",
    "    \n",
    "main()"
   ]
  },
  {
   "cell_type": "code",
   "execution_count": 7,
   "metadata": {},
   "outputs": [
    {
     "name": "stdout",
     "output_type": "stream",
     "text": [
      "Enter string 1: vishnu\n",
      "Enter string 2: klafae\n",
      "\n",
      "\n",
      "The value of string 3:  vuf\n"
     ]
    }
   ],
   "source": [
    "# 2: Program which takes input of two strings(s1,s2), and calculates a \n",
    "# third string, such that, it is formed with the first and last characters of\n",
    "# string s1, and middle character of string s2\n",
    "\n",
    "# defining the function strings with two parameters s1 and s2\n",
    "def strings(s1,s2):\n",
    "#     storing the first and last character of string s1\n",
    "    s3 = s1[0] + s1[len(s1)-1]\n",
    "    \n",
    "#     storing the middle character of string s2\n",
    "    if len(s2)%2==0:\n",
    "        s3 = s3 + s2[len(s2)//2]\n",
    "    else:\n",
    "        s3 = s3 + s2[(len(s2)-1)//2]\n",
    "        \n",
    "#         printing the s3 string here\n",
    "    print(\"\\n\\nThe value of string 3: \",s3)\n",
    "        \n",
    "def main():\n",
    "    string1 = input(\"Enter string 1: \")\n",
    "    string2 = input(\"Enter string 2: \")\n",
    "    \n",
    "#     calling the strings() function using parameters string1 and string2\n",
    "    strings(string1,string2)\n",
    "    \n",
    "# calling the main fucntion here\n",
    "main()"
   ]
  },
  {
   "cell_type": "code",
   "execution_count": 26,
   "metadata": {},
   "outputs": [
    {
     "name": "stdout",
     "output_type": "stream",
     "text": [
      "Enter the size of tuples: 4\n",
      "\n",
      "Enter the values of tuple 1: \n",
      "1\n",
      "2\n",
      "3\n",
      "4\n",
      "\n",
      "Enter the values of tuple 2: \n",
      "2\n",
      "1\n",
      "3\n",
      "4\n",
      "\n",
      "The value of tuples:\n",
      "Tuple 1:  (1, 2, 3, 4)\n",
      "Tuple 2: (2, 1, 3, 4)\n",
      "YES, both the tuples are equal to each other.\n"
     ]
    }
   ],
   "source": [
    "# 3)\tUse a python function, which takes inputs of two tuples and returns true if the elements in the two lists are \n",
    "# same irrespective of the position of the element in the tuples\n",
    "import array\n",
    "def tuples():\n",
    "    k = int(input(\"Enter the size of tuples: \"))\n",
    "    tuple1 = ()\n",
    "    tuple2 = ()\n",
    "    \n",
    "#     initializing the arrays\n",
    "    check1 = [0]*1000\n",
    "    check2 = [0]*1000\n",
    "    \n",
    "#     entering the values of both the tuples here\n",
    "    print(\"\\nEnter the values of tuple 1: \")\n",
    "    for i in range(k):\n",
    "        x = int(input())\n",
    "        tuple1 = tuple1 + (x,)\n",
    "        check1[x]= check1[x] + 1\n",
    "        \n",
    "    print(\"\\nEnter the values of tuple 2: \")\n",
    "    for i in range(k):\n",
    "        x = int(input())\n",
    "        tuple2 = tuple2 + (x,)\n",
    "        check2[x]= check2[x] + 1\n",
    "    \n",
    "#     printing the tuples value\n",
    "    print(\"\\nThe value of tuples:\")\n",
    "    print(\"Tuple 1: \",tuple1)\n",
    "    print(\"Tuple 2:\",tuple2)\n",
    "    \n",
    "#     checking weather tuple 1 and tuple 2 are equal or not with the help of array\n",
    "    if check1 == check2:\n",
    "        print(\"\\nYES, both the tuples are equal to each other.\")\n",
    "    else:\n",
    "        print(\"\\nNO, both the tuples are not equal to each other.\")\n",
    "    \n",
    "tuples()"
   ]
  },
  {
   "cell_type": "code",
   "execution_count": null,
   "metadata": {},
   "outputs": [],
   "source": []
  }
 ],
 "metadata": {
  "kernelspec": {
   "display_name": "Python 3",
   "language": "python",
   "name": "python3"
  },
  "language_info": {
   "codemirror_mode": {
    "name": "ipython",
    "version": 3
   },
   "file_extension": ".py",
   "mimetype": "text/x-python",
   "name": "python",
   "nbconvert_exporter": "python",
   "pygments_lexer": "ipython3",
   "version": "3.7.4"
  }
 },
 "nbformat": 4,
 "nbformat_minor": 2
}
