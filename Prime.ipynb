{
 "cells": [
  {
   "cell_type": "code",
   "execution_count": 27,
   "metadata": {},
   "outputs": [],
   "source": [
    "def primeNO():\n",
    "    x = int(input(\"Enter a number: \"))\n",
    "    count =0\n",
    "    for i in range(2,x//2):\n",
    "        if x%i==0:\n",
    "            print(\"\\nNot a prime number.\")\n",
    "            count=1\n",
    "            break;\n",
    "            \n",
    "    if count==0:\n",
    "        print(\"It is a prime\")\n",
    "primeNO()"
   ]
  },
  {
   "cell_type": "code",
   "execution_count": 32,
   "metadata": {},
   "outputs": [
    {
     "name": "stdout",
     "output_type": "stream",
     "text": [
      "Enter a number: 11\n",
      "It is a prime\n"
     ]
    }
   ],
   "source": [
    "primeNO()"
   ]
  },
  {
   "cell_type": "code",
   "execution_count": null,
   "metadata": {},
   "outputs": [],
   "source": []
  }
 ],
 "metadata": {
  "kernelspec": {
   "display_name": "Python 3",
   "language": "python",
   "name": "python3"
  },
  "language_info": {
   "codemirror_mode": {
    "name": "ipython",
    "version": 3
   },
   "file_extension": ".py",
   "mimetype": "text/x-python",
   "name": "python",
   "nbconvert_exporter": "python",
   "pygments_lexer": "ipython3",
   "version": "3.7.4"
  }
 },
 "nbformat": 4,
 "nbformat_minor": 2
}
