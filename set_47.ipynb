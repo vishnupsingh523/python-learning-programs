{
 "cells": [
  {
   "cell_type": "code",
   "execution_count": 5,
   "metadata": {},
   "outputs": [
    {
     "name": "stdout",
     "output_type": "stream",
     "text": [
      "****--------------  NOTE  --------------****\n",
      "Please enter the string in the right format i.e.\n",
      "  'From vishnupsingh523@gmail.com sun Aug 10:20:35'\n",
      "\n",
      "\n",
      "Enter Input: From vishnupsingh523@gmail.com sunday friday\n",
      "mailserver:  gmail.com\n",
      "Date and Time:  sunday friday\n"
     ]
    }
   ],
   "source": [
    "#1: parsing the emaril server:\n",
    "\n",
    "def parse():\n",
    "    print(\"****--------------  NOTE  --------------****\\nPlease enter the string in the right format i.e.\\n  'From vishnupsingh523@gmail.com sun Aug 10:20:35'\")\n",
    "    sent = input(\"\\n\\nEnter Input: \")\n",
    "#         Spliting the inputed string into first two parts waste and main\n",
    "    waste,main =sent.split(\" \",1)\n",
    "    \n",
    "    a,b =\"\",\"\"\n",
    "    x,y = main.split(\" \",1)\n",
    "    \n",
    "    if '@' in x:\n",
    "        a,b =x.split(\"@\")\n",
    "        \n",
    "    print(\"mailserver: \",b)\n",
    "    print(\"Date and Time: \",y)\n",
    "    \n",
    "# // calling the function   \n",
    "parse()"
   ]
  },
  {
   "cell_type": "code",
   "execution_count": 7,
   "metadata": {},
   "outputs": [
    {
     "name": "stdout",
     "output_type": "stream",
     "text": [
      "Enter the number of lines: 7\n",
      "                        1   \n",
      "                    2   1   2   \n",
      "                3   2   1   2   3   \n",
      "            4   3   2   1   2   3   4   \n",
      "        5   4   3   2   1   2   3   4   5   \n",
      "    6   5   4   3   2   1   2   3   4   5   6   \n",
      "7   6   5   4   3   2   1   2   3   4   5   6   7   \n"
     ]
    }
   ],
   "source": [
    "#2: program for printing the pattern\n",
    "def pattern():\n",
    "    x = int(input(\"Enter the number of lines: \"))\n",
    "    \n",
    "    for i in range(1,x+1):\n",
    "#         printing the spaces\n",
    "        for k in range(x-i):\n",
    "            print(\"   \",end=\" \")\n",
    "#             printing the first half pattern\n",
    "        for k in range(i,0,-1):\n",
    "            print(k,\" \",end=\" \")\n",
    "#             printing the second half range\n",
    "        for j in range(2,i+1):\n",
    "            print(j,\"  \",end=\"\")\n",
    "#           Printing the new line here\n",
    "        print(\"\")\n",
    "    \n",
    "# // calling the function    \n",
    "pattern()"
   ]
  },
  {
   "cell_type": "code",
   "execution_count": 7,
   "metadata": {},
   "outputs": [
    {
     "name": "stdout",
     "output_type": "stream",
     "text": [
      "The Lottery number is :  57\n"
     ]
    }
   ],
   "source": [
    "# 1: gengerating a lottrey for the game:\n",
    "import random\n",
    "\n",
    "digit1 = random.randrange(1,10)\n",
    "digit2 = random.randrange(1,10)\n",
    "\n",
    "while digit1 == digit2:\n",
    "    digit2 = random.randrange(1,10)\n",
    "\n",
    "digit = digit1*10 + digit2\n",
    "# printing the random number here\n",
    "print(\"The Lottery number is : \",digit)"
   ]
  }
 ],
 "metadata": {
  "kernelspec": {
   "display_name": "Python 3",
   "language": "python",
   "name": "python3"
  },
  "language_info": {
   "codemirror_mode": {
    "name": "ipython",
    "version": 3
   },
   "file_extension": ".py",
   "mimetype": "text/x-python",
   "name": "python",
   "nbconvert_exporter": "python",
   "pygments_lexer": "ipython3",
   "version": "3.7.4"
  }
 },
 "nbformat": 4,
 "nbformat_minor": 2
}
