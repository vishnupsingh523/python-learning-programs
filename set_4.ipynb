{
 "cells": [
  {
   "cell_type": "code",
   "execution_count": 6,
   "metadata": {},
   "outputs": [
    {
     "name": "stdout",
     "output_type": "stream",
     "text": [
      "Enter the size of the three arrays:  2\n",
      "Enter the values of 1st array: \n",
      "1\n",
      "2\n",
      "Enter the values of 2st array: \n",
      "3\n",
      "4\n",
      "Enter the values of 3st array: \n",
      "5\n",
      "1\n",
      "\n",
      "Values entered in the arrays:\n",
      "X :  [1, 2]\n",
      "Y :  [3, 4]\n",
      "Z :  [5, 1]\n",
      "\n",
      "Enter the target value:  10\n",
      "\n",
      "Printing all the combinations :\n",
      "\n",
      "[  1 , 3 , 5  ]\n",
      "[  1 , 3 , 1  ]\n",
      "[  1 , 4 , 5  ]\n",
      "[  1 , 4 , 1  ]\n",
      "[  2 , 3 , 5  ]\n",
      "[  2 , 3 , 1  ]\n",
      "[  2 , 4 , 1  ]\n"
     ]
    }
   ],
   "source": [
    "# 1. checking the sum for the target value:\n",
    "def target():\n",
    "#     inputing the size of the array:\n",
    "    size = int(input(\"Enter the size of the three arrays:  \"))\n",
    "    \n",
    "#     inputing the elements in the array\n",
    "    X = []\n",
    "    Y = []\n",
    "    Z = []\n",
    "    \n",
    "    print(\"Enter the values of 1st array: \")\n",
    "    for i in range(size):\n",
    "        x = int(input())\n",
    "        X.append(x)\n",
    "        \n",
    "    print(\"Enter the values of 2st array: \")\n",
    "    for i in range(size):\n",
    "        x = int(input())\n",
    "        Y.append(x)\n",
    "        \n",
    "    print(\"Enter the values of 3st array: \")\n",
    "    for i in range(size):\n",
    "        x = int(input())\n",
    "        Z.append(x)\n",
    "    \n",
    "    \n",
    "    print(\"\\nValues entered in the arrays:\\nX : \",X)\n",
    "    print(\"Y : \",Y)\n",
    "    print(\"Z : \",Z)\n",
    "    \n",
    "    target = int(input(\"\\nEnter the target value:  \"))\n",
    "    \n",
    "#     checking the number of combinations:\n",
    "    print(\"\\nPrinting all the combinations :\\n\")\n",
    "    for i in X:\n",
    "        for k in Y:\n",
    "            for j in Z:\n",
    "                sum = 0\n",
    "                sum = i + k + j\n",
    "                if sum <= target:\n",
    "                    print(\"[ \",i,\",\",k,\",\",j,\" ]\")\n",
    "        \n",
    "target()"
   ]
  },
  {
   "cell_type": "code",
   "execution_count": null,
   "metadata": {},
   "outputs": [],
   "source": []
  },
  {
   "cell_type": "code",
   "execution_count": 59,
   "metadata": {},
   "outputs": [
    {
     "name": "stdout",
     "output_type": "stream",
     "text": [
      "Enter the positive Interger:  45\n",
      "Performing the operations : \n",
      "\n",
      "45  -  20  =  25\n",
      "25  -  10  =  15\n",
      "15  -  5  =  10\n",
      "10  -  1  =  9\n",
      "9  -  9  =  0\n",
      "\n",
      "\n",
      "The last value of INPUTED INTEGER:  0\n"
     ]
    }
   ],
   "source": [
    "# 2. Question(2)\tWrite a Python program that accept a positive number \n",
    "# and subtract from this number the product of its digits and so on. \n",
    "# Continues this operation until the number is positive.\t\n",
    "\n",
    "def subPositive():\n",
    "    positive = int(input(\"Enter the positive Interger:  \"))\n",
    "    \n",
    "    \n",
    "    print(\"Performing the operations : \\n\")\n",
    "    \n",
    "    while positive > 0:\n",
    "        num = []\n",
    "        check = positive\n",
    "\n",
    "#     taking the list of digits present in the positive number:\n",
    "        while check >0:\n",
    "            k = check % 10 \n",
    "            if k != 0:\n",
    "                num.append(k)\n",
    "            check = check//10\n",
    "# initializing the product equal to one: for storing the product of positive's digits\n",
    "        product = 1\n",
    "    \n",
    "        for i in num:\n",
    "            product = product * i\n",
    "        \n",
    "        print(positive,\" - \",product,\" = \",positive-product)\n",
    "        positive = positive - product\n",
    "        \n",
    "        \n",
    "    print(\"\\n\\nThe last value of INPUTED INTEGER: \",positive)\n",
    "    \n",
    "subPositive()\n",
    "    "
   ]
  },
  {
   "cell_type": "code",
   "execution_count": 37,
   "metadata": {},
   "outputs": [
    {
     "name": "stdout",
     "output_type": "stream",
     "text": [
      "                    * \n",
      "                  * * * \n",
      "                * * * * * \n",
      "              * * * * * * * \n",
      "            * * * * * * * * * \n",
      "             * * * * * * * * \n",
      "              * * * * * * * \n",
      "               * * * * * * \n",
      "                * * * * * \n"
     ]
    }
   ],
   "source": [
    "# 3. Pattern of polygon\n",
    "def polygon():\n",
    "#     printing the triangle first:\n",
    "    for i in range(5):\n",
    "        for k in range(10-i):\n",
    "            print(\"  \",end=\"\")\n",
    "        for k in range(i*2+1):\n",
    "            print(\"*\",end=\" \")\n",
    "        \n",
    "        print(\"\")\n",
    "#   now printing the remaining quardilateral:\n",
    "    for i in range(4):\n",
    "        print(\"  \",end=\" \")\n",
    "        for k in range(i+10):\n",
    "            print(\" \",end=\"\")\n",
    "        for k in range(10-i-2):\n",
    "            print(\"*\",end=\" \")\n",
    "            \n",
    "        print(\"\")\n",
    "            \n",
    "polygon()"
   ]
  },
  {
   "cell_type": "code",
   "execution_count": 49,
   "metadata": {},
   "outputs": [
    {
     "name": "stdout",
     "output_type": "stream",
     "text": [
      "     * * * * * \n",
      "     * * * * * \n",
      "     * * * * * \n",
      "* * * * * * * * * * \n",
      "* * * * * * * * * * \n",
      "* * * * * * * * * * \n",
      "* * * * * * * * * * \n",
      "* * * * * * * * * * \n",
      "* * * * * * * * * * \n",
      "     * * * * * \n",
      "     * * * * * \n",
      "     * * * * * \n"
     ]
    }
   ],
   "source": [
    "# 3.2 - making another pattern\n",
    "def quadrilateral():\n",
    "#     print first quadrilateral:\n",
    "    for i in range(3):\n",
    "        print(\" \",end=\"\")\n",
    "        for k in range(4):\n",
    "            print(\" \",end=\"\")\n",
    "        for j in range(5):\n",
    "            print(\"*\",end=\" \")\n",
    "        \n",
    "        print(\"\")\n",
    "        \n",
    "#     printing the second quadrilateral:\n",
    "    for i in range(6):\n",
    "        for j in range(10):\n",
    "            print(\"*\",end=\" \")\n",
    "        \n",
    "        print(\"\")\n",
    "        \n",
    "#     printing third quadrilateral:\n",
    "    for i in range(3):\n",
    "        print(\" \",end=\"\")\n",
    "        for k in range(4):\n",
    "            print(\" \",end=\"\")\n",
    "        for j in range(5):\n",
    "            print(\"*\",end=\" \")\n",
    "        \n",
    "        print(\"\")\n",
    "        \n",
    "        \n",
    "# calling the fuction\n",
    "quadrilateral()\n"
   ]
  },
  {
   "cell_type": "code",
   "execution_count": null,
   "metadata": {},
   "outputs": [],
   "source": []
  }
 ],
 "metadata": {
  "kernelspec": {
   "display_name": "Python 3",
   "language": "python",
   "name": "python3"
  },
  "language_info": {
   "codemirror_mode": {
    "name": "ipython",
    "version": 3
   },
   "file_extension": ".py",
   "mimetype": "text/x-python",
   "name": "python",
   "nbconvert_exporter": "python",
   "pygments_lexer": "ipython3",
   "version": "3.7.4"
  }
 },
 "nbformat": 4,
 "nbformat_minor": 2
}
