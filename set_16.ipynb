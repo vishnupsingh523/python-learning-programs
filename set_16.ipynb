{
 "cells": [
  {
   "cell_type": "code",
   "execution_count": 48,
   "metadata": {},
   "outputs": [
    {
     "name": "stdout",
     "output_type": "stream",
     "text": [
      "Enter the alphabet: a\n",
      "\n",
      "\n",
      "\n",
      "a        a\n",
      " a      a\n",
      "  a    a\n",
      "   a  a\n",
      "    aa\n",
      "    aa\n",
      "   a  a\n",
      "  a    a\n",
      " a      a\n",
      "a        a\n"
     ]
    }
   ],
   "source": [
    "# 1-1: first program for printing the alphabet\n",
    "def pattern():\n",
    "    x = input(\"Enter the alphabet: \")\n",
    "    print(\"\\n\\n\")\n",
    "    \n",
    "#     printing the pattern for the first half\n",
    "    for i in range(5):\n",
    "        for t in range(i):\n",
    "            print(\" \",end=\"\")\n",
    "        print(x,end=\"\")\n",
    "        for k in range(4-i):\n",
    "            print(\"  \",end=\"\")\n",
    "        print(x)\n",
    "        \n",
    "#   printing the pattern for the sencond half\n",
    "    for i in range(5):\n",
    "        for t in range(4-i):\n",
    "            print(\" \",end=\"\")\n",
    "        print(x,end=\"\")\n",
    "        for k in range(i):\n",
    "            print(\"  \",end=\"\")\n",
    "        print(x)\n",
    "    \n",
    "        \n",
    "pattern()"
   ]
  },
  {
   "cell_type": "code",
   "execution_count": 55,
   "metadata": {},
   "outputs": [
    {
     "name": "stdout",
     "output_type": "stream",
     "text": [
      "\n",
      "* \n",
      "* * \n",
      "* * * \n",
      "* * * * \n",
      "* * * * * \n",
      "\n",
      "Rotating the pattern by 180 degree angle ......\n",
      "\n",
      "\n",
      "* * * * * \n",
      "* * * * \n",
      "* * * \n",
      "* * \n",
      "* \n",
      "\n"
     ]
    }
   ],
   "source": [
    "# 1-2: Write a python program to draw a right angle based pattern and then make a 180 degree rotation to that pattern \n",
    "def rightAngle():\n",
    "    for i in range(6):\n",
    "        for k in range(i):\n",
    "            print(\"*\",end=\" \")\n",
    "        print(end=\"\\n\")\n",
    "        \n",
    "    print(\"\\nRotating the pattern by 180 degree angle ......\\n\\n\")\n",
    "    \n",
    "    for i in range(6):\n",
    "        for k in range(5-i):\n",
    "            print(\"*\",end=\" \")\n",
    "        print(end=\"\\n\")\n",
    "rightAngle()\n"
   ]
  },
  {
   "cell_type": "code",
   "execution_count": 3,
   "metadata": {},
   "outputs": [
    {
     "name": "stdout",
     "output_type": "stream",
     "text": [
      "Enter the limit:  10\n",
      "0  EVEN\n",
      "1  ODD\n",
      "2  EVEN\n",
      "3  ODD\n",
      "4  EVEN\n",
      "5  ODD\n",
      "6  EVEN\n",
      "7  ODD\n",
      "8  EVEN\n",
      "9  ODD\n",
      "10  EVEN\n"
     ]
    }
   ],
   "source": [
    "# #2-2 program for finding the even or odd number between the given limit\n",
    "# def seeNumbers(limit):\n",
    "#     for i in range(limit+1):\n",
    "# #         checking the condition here for even\n",
    "#         if i%2==0:\n",
    "#             print(i,\" EVEN\")\n",
    "#         else:\n",
    "#             print(i,\" ODD\")\n",
    "\n",
    "# #  initializing the main function:\n",
    "# def main():\n",
    "#     limit = int(input(\"Enter the limit:  \"))\n",
    "    \n",
    "#     #calling the seeNumbers() fucntion with the parameter limit\n",
    "#     seeNumbers(limit)\n",
    "\n",
    "# # calling the main function\n",
    "# main()\n"
   ]
  },
  {
   "cell_type": "code",
   "execution_count": 30,
   "metadata": {},
   "outputs": [
    {
     "name": "stdout",
     "output_type": "stream",
     "text": [
      "Enter the IP address: 007.270.001.005\n",
      "IP address after removing the leading zeroes: 7.270.1.5\n"
     ]
    }
   ],
   "source": [
    "# 3-2: Program to remove leading zeros from an IP address \n",
    "# Sample input: 007.270.001.005 \n",
    "# Sample output: 7.270.1.5 \n",
    "def leadingzeros():\n",
    "#     entering the ip address here\n",
    "    address = input(\"Enter the IP address: \")\n",
    "\n",
    "    listOfNum = address.split('.')\n",
    "    leadingremoved = \"\"\n",
    "    for i in listOfNum:\n",
    "      while i[0] == \"0\":\n",
    "        i = i[1:]\n",
    "      leadingremoved = leadingremoved + i + \".\";\n",
    "    \n",
    "    leadingremoved = leadingremoved[:-1]\n",
    "    print(\"IP address after removing the leading zeroes:\",leadingremoved)\n",
    "    \n",
    "# calling hte leadingzeros:\n",
    "leadingzeros()"
   ]
  }
 ],
 "metadata": {
  "kernelspec": {
   "display_name": "Python 3",
   "language": "python",
   "name": "python3"
  },
  "language_info": {
   "codemirror_mode": {
    "name": "ipython",
    "version": 3
   },
   "file_extension": ".py",
   "mimetype": "text/x-python",
   "name": "python",
   "nbconvert_exporter": "python",
   "pygments_lexer": "ipython3",
   "version": "3.7.4"
  }
 },
 "nbformat": 4,
 "nbformat_minor": 2
}
