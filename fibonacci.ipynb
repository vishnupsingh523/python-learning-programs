{
 "cells": [
  {
   "cell_type": "code",
   "execution_count": 3,
   "metadata": {},
   "outputs": [],
   "source": [
    "def fibonacci():\n",
    "    x=0\n",
    "    y=1\n",
    "    print(x,\"  \")\n",
    "    print(y,\"  \")\n",
    "    \n",
    "    for i in range(20):\n",
    "        sum = x+y\n",
    "        x=y\n",
    "        y=sum\n",
    "        print(sum,\"  \")"
   ]
  },
  {
   "cell_type": "code",
   "execution_count": 4,
   "metadata": {},
   "outputs": [
    {
     "name": "stdout",
     "output_type": "stream",
     "text": [
      "0   \n",
      "1   \n",
      "1   \n",
      "2   \n",
      "3   \n",
      "5   \n",
      "8   \n",
      "13   \n",
      "21   \n",
      "34   \n",
      "55   \n",
      "89   \n",
      "144   \n",
      "233   \n",
      "377   \n",
      "610   \n",
      "987   \n",
      "1597   \n",
      "2584   \n",
      "4181   \n",
      "6765   \n",
      "10946   \n"
     ]
    }
   ],
   "source": [
    "fibonacci()"
   ]
  },
  {
   "cell_type": "code",
   "execution_count": null,
   "metadata": {},
   "outputs": [],
   "source": []
  }
 ],
 "metadata": {
  "kernelspec": {
   "display_name": "Python 3",
   "language": "python",
   "name": "python3"
  },
  "language_info": {
   "codemirror_mode": {
    "name": "ipython",
    "version": 3
   },
   "file_extension": ".py",
   "mimetype": "text/x-python",
   "name": "python",
   "nbconvert_exporter": "python",
   "pygments_lexer": "ipython3",
   "version": "3.7.4"
  }
 },
 "nbformat": 4,
 "nbformat_minor": 2
}
