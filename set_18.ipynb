{
 "cells": [
  {
   "cell_type": "code",
   "execution_count": 5,
   "metadata": {},
   "outputs": [
    {
     "name": "stdout",
     "output_type": "stream",
     "text": [
      "* * * * * * * * * * \n",
      "*\n",
      "*\n",
      "*\n",
      "*\n",
      "* * * * * * * * * * \n",
      "*\n",
      "*\n",
      "*\n",
      "*\n",
      "* * * * * * * * * * \n"
     ]
    }
   ],
   "source": [
    "# 1-A: printing the pattern E\n",
    "def pattern():\n",
    "    \n",
    "    for i in range(0,11):\n",
    "        if i%5 == 0:\n",
    "            for j in range(10):\n",
    "                print(\"*\",end=\" \")\n",
    "            print(\"\")\n",
    "        else:\n",
    "            print(\"*\")\n",
    "                \n",
    "pattern()\n",
    "    "
   ]
  },
  {
   "cell_type": "code",
   "execution_count": 23,
   "metadata": {},
   "outputs": [
    {
     "name": "stdout",
     "output_type": "stream",
     "text": [
      "Enter the number: 1\n",
      "1 1 1 1 1 1 1 1 1 1 1 1 1 \n",
      "  1 1 1 1 1 1 1 1 1 1 1 \n",
      "    1 1 1 1 1 1 1 1 1 \n",
      "      1 1 1 1 1 1 1 \n",
      "        1 1 1 1 1 \n",
      "          1 1 1 \n",
      "            1 \n"
     ]
    }
   ],
   "source": [
    "# 1-B: Inverted pyramid \n",
    "def pyramid():\n",
    "    x = int(input(\"Enter the number: \"))\n",
    "    for i in range(7):\n",
    "        for k in range(i):\n",
    "            print(\" \",end=\" \")\n",
    "\n",
    "        for k in range(13-i*2):\n",
    "            print(x,end=\" \")\n",
    "        print(\"\")\n",
    "            \n",
    "# calling pyramid()\n",
    "pyramid()"
   ]
  },
  {
   "cell_type": "code",
   "execution_count": 27,
   "metadata": {},
   "outputs": [
    {
     "name": "stdout",
     "output_type": "stream",
     "text": [
      "Enter a string : mnbvcxzasdfghjkl[poiuytrewq\n",
      "\n",
      "Yes, its a pangram\n"
     ]
    }
   ],
   "source": [
    "# 2: Pangram or not\n",
    "def pangram(string):\n",
    "    check = [0]*26\n",
    "    alphabets = \"abcdefghijklmnopqrstuvwxyz\"\n",
    "    string = string.lower()\n",
    "    for i in range(len(string)):\n",
    "        for j in range(26):\n",
    "            if alphabets[j] == string[i]:\n",
    "                check[j] = check[j] + 1\n",
    "    \n",
    "    count =0;\n",
    "    for i in range(26):\n",
    "        if check[i]==0:\n",
    "            print(\"\\nNot a pangram.\")\n",
    "        else:\n",
    "            count = count+1\n",
    "    \n",
    "    if count == 26:\n",
    "        print(\"\\nYes, its a pangram\")\n",
    "        \n",
    "def main():\n",
    "    string = input(\"Enter a string : \")\n",
    "#     calling pangram\n",
    "    pangram(string)\n",
    "\n",
    "main()"
   ]
  },
  {
   "cell_type": "code",
   "execution_count": null,
   "metadata": {},
   "outputs": [],
   "source": []
  }
 ],
 "metadata": {
  "kernelspec": {
   "display_name": "Python 3",
   "language": "python",
   "name": "python3"
  },
  "language_info": {
   "codemirror_mode": {
    "name": "ipython",
    "version": 3
   },
   "file_extension": ".py",
   "mimetype": "text/x-python",
   "name": "python",
   "nbconvert_exporter": "python",
   "pygments_lexer": "ipython3",
   "version": "3.7.4"
  }
 },
 "nbformat": 4,
 "nbformat_minor": 2
}
